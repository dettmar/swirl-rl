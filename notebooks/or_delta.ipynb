{
 "metadata": {
  "language_info": {
   "codemirror_mode": {
    "name": "ipython",
    "version": 3
   },
   "file_extension": ".py",
   "mimetype": "text/x-python",
   "name": "python",
   "nbconvert_exporter": "python",
   "pygments_lexer": "ipython3",
   "version": "3.8.5-final"
  },
  "orig_nbformat": 2,
  "kernelspec": {
   "name": "python3",
   "display_name": "Python 3",
   "language": "python"
  }
 },
 "nbformat": 4,
 "nbformat_minor": 2,
 "cells": [
  {
   "cell_type": "code",
   "execution_count": null,
   "metadata": {},
   "outputs": [],
   "source": [
    "print(\"Running\")"
   ]
  },
  {
   "cell_type": "code",
   "execution_count": null,
   "metadata": {},
   "outputs": [],
   "source": [
    "import gym\n",
    "import glob\n",
    "import torch\n",
    "import matplotlib.pyplot as plt"
   ]
  },
  {
   "cell_type": "code",
   "execution_count": null,
   "metadata": {},
   "outputs": [],
   "source": [
    "deg2rad = lambda x: x * 3.1415926536 / 180.\n",
    "rad2deg = lambda x: x * 180. / 3.1415926536"
   ]
  },
  {
   "cell_type": "code",
   "execution_count": null,
   "metadata": {},
   "outputs": [],
   "source": [
    "env = gym.make('gym_swirl:swirl-v1')\n",
    "env.seed(42)"
   ]
  },
  {
   "cell_type": "code",
   "execution_count": null,
   "metadata": {},
   "outputs": [],
   "source": [
    "def getOR(states, start=1):\n",
    "    return [state.O_R.mean() for state in states[start:]]\n",
    "\n",
    "def getDelta(states, start=1):\n",
    "    return [rad2deg(state.Deltas.mean()) for state in states[start:]]\n",
    "\n",
    "def getTimes(states, start=1):\n",
    "    return [state.T for state in states[start:]]\n",
    "\n",
    "def getEndOR(paths, stride=1):\n",
    "    finalORs = []\n",
    "    epochs = []\n",
    "    for path in paths[::stride]:\n",
    "        env.load(path)\n",
    "        ORs = getOR(env.states, start=len(env.states)//2)\n",
    "        meanOR = torch.tensor(ORs).mean().abs()\n",
    "        finalORs.append(meanOR)\n",
    "        epochs.append(int(path.split(\"epoch\").pop().split(\"_2021\")[0]))\n",
    "    \n",
    "    return epochs, finalORs\n",
    "\n",
    "def getEndDeltas(paths, stride=1):\n",
    "    finalDeltas = []\n",
    "    epochs = []\n",
    "    for path in paths[::stride]:\n",
    "        env.load(path)\n",
    "        Deltas = getDelta(env.states, start=len(env.states)//2)\n",
    "        meanDeltas = torch.tensor(Deltas).mean()\n",
    "        finalDeltas.append(meanDeltas)\n",
    "        epochs.append(int(path.split(\"epoch\").pop().split(\"_2021\")[0]))\n",
    "    \n",
    "    return epochs, finalDeltas"
   ]
  },
  {
   "cell_type": "code",
   "execution_count": null,
   "metadata": {},
   "outputs": [],
   "source": [
    "paths = sorted(glob.glob(\"runs/mfmaac056_*\"), key=lambda x: int(x.split(\"epoch\").pop().split(\"_2021\")[0]))\n",
    "path = paths[-1]"
   ]
  },
  {
   "cell_type": "code",
   "execution_count": null,
   "metadata": {},
   "outputs": [],
   "source": [
    "env.load(path)"
   ]
  },
  {
   "cell_type": "code",
   "execution_count": null,
   "metadata": {},
   "outputs": [],
   "source": []
  },
  {
   "cell_type": "code",
   "execution_count": null,
   "metadata": {},
   "outputs": [],
   "source": [
    "plt.plot(getTimes(env.states), getDelta(env.states))"
   ]
  },
  {
   "cell_type": "code",
   "execution_count": null,
   "metadata": {},
   "outputs": [],
   "source": [
    "plt.plot(getTimes(env.states), getOR(env.states))"
   ]
  },
  {
   "cell_type": "code",
   "execution_count": null,
   "metadata": {
    "tags": []
   },
   "outputs": [],
   "source": [
    "plt.plot(*getEndOR(paths, stride=5))"
   ]
  },
  {
   "cell_type": "code",
   "execution_count": null,
   "metadata": {
    "tags": []
   },
   "outputs": [],
   "source": [
    "plt.plot(*getEndDeltas(paths, stride=5))"
   ]
  },
  {
   "cell_type": "code",
   "execution_count": null,
   "metadata": {},
   "outputs": [],
   "source": []
  }
 ]
}