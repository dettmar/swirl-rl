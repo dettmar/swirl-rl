{
 "cells": [
  {
   "cell_type": "code",
   "execution_count": null,
   "metadata": {},
   "outputs": [],
   "source": [
    "print(\"Running\")"
   ]
  },
  {
   "cell_type": "code",
   "execution_count": null,
   "metadata": {},
   "outputs": [],
   "source": [
    "import gym\n",
    "import glob\n",
    "import torch\n",
    "import matplotlib.pyplot as plt"
   ]
  },
  {
   "cell_type": "code",
   "execution_count": null,
   "metadata": {},
   "outputs": [],
   "source": [
    "deg2rad = lambda x: x * 3.1415926536 / 180.\n",
    "rad2deg = lambda x: x * 180. / 3.1415926536"
   ]
  },
  {
   "cell_type": "code",
   "execution_count": null,
   "metadata": {},
   "outputs": [],
   "source": [
    "env = gym.make('gym_swirl:swirl-v1')\n",
    "env.seed(42)"
   ]
  },
  {
   "cell_type": "code",
   "execution_count": null,
   "metadata": {},
   "outputs": [],
   "source": [
    "def getOR(states, start=1):\n",
    "    return [state.O_R.mean() for state in states[start:]]\n",
    "\n",
    "def getDelta(states, start=1):\n",
    "    return [rad2deg(state.Deltas.mean()) for state in states[start:]]\n",
    "\n",
    "def getTimes(states, start=1):\n",
    "    return [state.T for state in states[start:]]\n",
    "\n",
    "def getEndOR(paths, stride=1):\n",
    "    finalORs = []\n",
    "    epochs = []\n",
    "    for path in paths[::stride]:\n",
    "        env.load(path)\n",
    "        ORs = getOR(env.states, start=len(env.states)*3//4)\n",
    "        meanOR = torch.tensor(ORs).mean().abs()\n",
    "        finalORs.append(meanOR)\n",
    "        epochs.append(int(path.split(\"epoch\").pop().split(\"_2021\")[0]))\n",
    "    \n",
    "    return epochs, finalORs\n",
    "\n",
    "def getEndDeltas(paths, stride=1):\n",
    "    finalDeltas = []\n",
    "    epochs = []\n",
    "    for path in paths[::stride]:\n",
    "        env.load(path)\n",
    "        Deltas = getDelta(env.states, start=len(env.states)*3//4)\n",
    "        meanDeltas = torch.tensor(Deltas).mean()\n",
    "        finalDeltas.append(meanDeltas)\n",
    "        epochs.append(int(path.split(\"epoch\").pop().split(\"_2021\")[0]))\n",
    "    \n",
    "    return epochs, finalDeltas"
   ]
  },
  {
   "cell_type": "code",
   "execution_count": null,
   "metadata": {},
   "outputs": [],
   "source": [
    "attempt = 12#\n",
    "type_rl = \"acdd\"#\"mfmaac\""
   ]
  },
  {
   "cell_type": "code",
   "execution_count": null,
   "metadata": {},
   "outputs": [],
   "source": [
    "paths = sorted(glob.glob(f\"runs/{type_rl}{attempt:03d}_*\"), key=lambda x: int(x.split(\"epoch\").pop().split(\"_2021\")[0]))[-50:]\n",
    "len(paths)"
   ]
  },
  {
   "cell_type": "code",
   "execution_count": null,
   "metadata": {
    "tags": []
   },
   "outputs": [],
   "source": [
    "end_deltas = getEndDeltas(paths, stride=1)"
   ]
  },
  {
   "cell_type": "code",
   "execution_count": null,
   "metadata": {
    "tags": []
   },
   "outputs": [],
   "source": [
    "plt.rcParams.update({'font.size': 22})\n",
    "fig = plt.figure(figsize=(20,10))\n",
    "optimum_line, = plt.plot([-5, end_deltas[0][-1]+5], [76]*2, \"--\", c=\"red\", label='$\\Delta_{opt}$ = 76°')\n",
    "learned_line, = plt.plot(*end_deltas, c=\"black\", label='Avg. final $\\Delta$')\n",
    "plt.xlabel(\"Epoch #\")\n",
    "plt.ylabel(\"Avg. final $\\Delta$\")\n",
    "plt.xlim([-5, end_deltas[0][-1]+5])\n",
    "plt.legend(handles=[optimum_line, learned_line])\n",
    "#fig.savefig('avg_last_or_ac.pdf', bbox_inches='tight', pad_inches=0)"
   ]
  },
  {
   "cell_type": "code",
   "execution_count": null,
   "metadata": {},
   "outputs": [],
   "source": [
    "path = paths[-1]\n",
    "\n",
    "env.load(path)\n",
    "times = getTimes(env.states)\n",
    "plt.plot(times, getDelta(env.states))\n",
    "plt.plot(times, getOR(env.states))"
   ]
  },
  {
   "cell_type": "code",
   "execution_count": null,
   "metadata": {
    "tags": []
   },
   "outputs": [],
   "source": [
    "plt.plot(*getEndOR(paths, stride=5))"
   ]
  },
  {
   "cell_type": "code",
   "execution_count": null,
   "metadata": {},
   "outputs": [],
   "source": []
  }
 ],
 "metadata": {
  "kernelspec": {
   "display_name": "Python 3.8.5 64-bit ('swirl': conda)",
   "language": "python",
   "name": "python38564bitswirlconda21c61d42320d4e60b34fb9d53df3ccf3"
  },
  "language_info": {
   "codemirror_mode": {
    "name": "ipython",
    "version": 3
   },
   "file_extension": ".py",
   "mimetype": "text/x-python",
   "name": "python",
   "nbconvert_exporter": "python",
   "pygments_lexer": "ipython3",
   "version": "3.8.5-final"
  }
 },
 "nbformat": 4,
 "nbformat_minor": 4
}