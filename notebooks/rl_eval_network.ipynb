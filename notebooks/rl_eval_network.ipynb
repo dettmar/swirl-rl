{
 "metadata": {
  "language_info": {
   "codemirror_mode": {
    "name": "ipython",
    "version": 3
   },
   "file_extension": ".py",
   "mimetype": "text/x-python",
   "name": "python",
   "nbconvert_exporter": "python",
   "pygments_lexer": "ipython3",
   "version": "3.8.5-final"
  },
  "orig_nbformat": 2,
  "kernelspec": {
   "name": "python3",
   "display_name": "Python 3",
   "language": "python"
  }
 },
 "nbformat": 4,
 "nbformat_minor": 2,
 "cells": [
  {
   "cell_type": "code",
   "execution_count": null,
   "metadata": {},
   "outputs": [],
   "source": [
    "print(\"Running\")"
   ]
  },
  {
   "cell_type": "code",
   "execution_count": null,
   "metadata": {},
   "outputs": [],
   "source": [
    "import sys\n",
    "import gym\n",
    "import glob\n",
    "import torch\n",
    "import pandas as pd\n",
    "import matplotlib.pyplot as plt\n",
    "sys.path.append(\"../\")\n",
    "from ACDir import ActorCriticDiscrete"
   ]
  },
  {
   "cell_type": "code",
   "execution_count": null,
   "metadata": {},
   "outputs": [],
   "source": [
    "deg2rad = lambda x: x * 3.1415926536 / 180.\n",
    "rad2deg = lambda x: x * 180. / 3.1415926536"
   ]
  },
  {
   "cell_type": "code",
   "execution_count": null,
   "metadata": {},
   "outputs": [],
   "source": [
    "model = ActorCriticDiscrete(num_inputs=1, num_actions=3)\n",
    "model.load_state_dict(torch.load(\"../weights/mfmaac_epochs800_measure500_timesteps10_20210210-123802.pt\"))#\"../weights/mfmaac_epochs800_measure500_timesteps10_20210216-213727.pt\"))\n",
    "model.eval()"
   ]
  },
  {
   "cell_type": "code",
   "execution_count": null,
   "metadata": {},
   "outputs": [],
   "source": [
    "values = []\n",
    "ran = list(range(-90,270))\n",
    "for Delta in ran:\n",
    "    Delta = torch.tensor(deg2rad(Delta)).reshape((1,)).float()\n",
    "    Delta = torch.nn.functional.relu(model.affine(Delta))\n",
    "    state_value = model.value_layer(Delta)\n",
    "    values.append(state_value)\n",
    "\n",
    "plt.plot(ran, values)\n",
    "#env.load(glob.glob(\"../runs/mfmaac*\")[-1])"
   ]
  },
  {
   "cell_type": "code",
   "execution_count": null,
   "metadata": {},
   "outputs": [],
   "source": [
    "for Delta in ran[90:90+180:15]:\n",
    "    Delta_orig = Delta\n",
    "    Delta = torch.tensor(deg2rad(Delta)).reshape((1,)).float()\n",
    "    Delta = torch.nn.functional.relu(model.affine(Delta))\n",
    "    action_probs = torch.nn.functional.softmax(model.action_layer(Delta))    \n",
    "    #print([-1, 0, 1], action_probs)\n",
    "    fig, ax = plt.subplots()\n",
    "    ax.set_title(f'Delta = {Delta_orig}°')\n",
    "    ax.bar([-1, 0, 1], action_probs.detach().numpy(), )\n",
    "    plt.show()"
   ]
  },
  {
   "cell_type": "code",
   "execution_count": null,
   "metadata": {},
   "outputs": [],
   "source": [
    "actions = []\n",
    "\n",
    "for Delta in ran[90:90+180]:\n",
    "    Delta_orig = Delta\n",
    "    Delta = torch.tensor(deg2rad(Delta)).reshape((1,)).float()\n",
    "    Delta = torch.nn.functional.relu(model.affine(Delta))\n",
    "    action_probs = torch.nn.functional.softmax(model.action_layer(Delta))    \n",
    "    #print()\n",
    "    actions.append((action_probs * torch.tensor([-1, 0, 1]) * 3).mean().detach())\n",
    "\n",
    "plt.plot(ran[90:90+180], actions)"
   ]
  },
  {
   "cell_type": "code",
   "execution_count": null,
   "metadata": {},
   "outputs": [],
   "source": []
  },
  {
   "cell_type": "code",
   "execution_count": null,
   "metadata": {},
   "outputs": [],
   "source": []
  }
 ]
}