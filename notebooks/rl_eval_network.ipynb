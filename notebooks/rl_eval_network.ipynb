{
 "metadata": {
  "language_info": {
   "codemirror_mode": {
    "name": "ipython",
    "version": 3
   },
   "file_extension": ".py",
   "mimetype": "text/x-python",
   "name": "python",
   "nbconvert_exporter": "python",
   "pygments_lexer": "ipython3",
   "version": "3.8.5-final"
  },
  "orig_nbformat": 2,
  "kernelspec": {
   "name": "python3",
   "display_name": "Python 3",
   "language": "python"
  }
 },
 "nbformat": 4,
 "nbformat_minor": 2,
 "cells": [
  {
   "cell_type": "code",
   "execution_count": null,
   "metadata": {},
   "outputs": [],
   "source": [
    "print(\"Running\")"
   ]
  },
  {
   "cell_type": "code",
   "execution_count": null,
   "metadata": {},
   "outputs": [],
   "source": [
    "import sys\n",
    "import gym\n",
    "import glob\n",
    "import torch\n",
    "import pandas as pd\n",
    "import matplotlib.pyplot as plt\n",
    "sys.path.append(\"../\")\n",
    "from ACDir import ActorCriticDiscrete"
   ]
  },
  {
   "cell_type": "code",
   "execution_count": null,
   "metadata": {},
   "outputs": [],
   "source": [
    "deg2rad = lambda x: x * 3.1415926536 / 180.\n",
    "rad2deg = lambda x: x * 180. / 3.1415926536"
   ]
  },
  {
   "cell_type": "code",
   "execution_count": null,
   "metadata": {},
   "outputs": [],
   "source": [
    "attempt = 69\n",
    "num_actions = 2"
   ]
  },
  {
   "cell_type": "code",
   "execution_count": null,
   "metadata": {},
   "outputs": [],
   "source": [
    "paths = sorted(glob.glob(f\"weights/mfmaac{attempt:03d}*.pt\"))\n",
    "path = paths[-1]\n",
    "paths"
   ]
  },
  {
   "cell_type": "code",
   "execution_count": null,
   "metadata": {},
   "outputs": [],
   "source": [
    "model = ActorCriticDiscrete(num_inputs=1, num_actions=num_actions)\n",
    "model.load_state_dict(torch.load(path, map_location=torch.device('cpu')))#\"../weights/mfmaac_epochs800_measure500_timesteps10_20210216-213727.pt\"))\n",
    "model.eval()"
   ]
  },
  {
   "cell_type": "code",
   "execution_count": null,
   "metadata": {},
   "outputs": [],
   "source": [
    "values = []\n",
    "ran = list(range(-90,270))\n",
    "for Delta in ran:\n",
    "    Delta = torch.tensor(deg2rad(Delta)).reshape((1,)).float()\n",
    "    Delta = torch.nn.functional.relu(model.affine(Delta))\n",
    "    state_value = model.value_layer(Delta)\n",
    "    values.append(state_value)\n",
    "\n",
    "plt.plot(ran, values)\n",
    "#env.load(glob.glob(\"../runs/mfmaac*\")[-1])"
   ]
  },
  {
   "cell_type": "code",
   "execution_count": null,
   "metadata": {},
   "outputs": [],
   "source": [
    "for Delta in ran[90:90+180:15]:\n",
    "    continue\n",
    "    Delta_orig = Delta\n",
    "    Delta = torch.tensor(deg2rad(Delta)).reshape((1,)).float()\n",
    "    Delta = torch.nn.functional.relu(model.affine(Delta))\n",
    "    action_probs = torch.nn.functional.softmax(model.action_layer(Delta))    \n",
    "    #print([-1, 0, 1], action_probs)\n",
    "    fig, ax = plt.subplots()\n",
    "    ax.set_title(f'Delta = {Delta_orig}°')\n",
    "    ax.bar([-1, 0, 1], action_probs.detach().numpy(), )\n",
    "    plt.show()"
   ]
  },
  {
   "cell_type": "code",
   "execution_count": null,
   "metadata": {},
   "outputs": [],
   "source": [
    "actions = []\n",
    "action_meanings = torch.tensor([-1, 0, 1]) if num_actions == 3 else torch.tensor([-1, 1])\n",
    "\n",
    "for Delta in ran[90:90+180]:\n",
    "    Delta_orig = Delta\n",
    "    Delta = torch.tensor(deg2rad(Delta)).reshape((1,)).float()\n",
    "    Delta = torch.nn.functional.relu(model.affine(Delta))\n",
    "    #print(\"model.action_layer(Delta)\", model.action_layer(Delta).size())\n",
    "    action_probs = torch.nn.functional.softmax(model.action_layer(Delta), dim=0)    \n",
    "    #print()\n",
    "    actions.append((action_probs * action_meanings * num_actions).mean().detach())\n",
    "\n",
    "fig = plt.figure(figsize=(15,10))\n",
    "plt.plot(ran[90:90+180], actions)\n",
    "plt.title(f\"$\\Delta_{{opt}}$ = {(torch.tensor(actions)**2).argmin()}°\")\n",
    "plt.xlabel(\"$\\Delta$ °\")\n",
    "plt.ylabel(\"Avg action $\\Delta_{t+1}$\");\n"
   ]
  },
  {
   "cell_type": "code",
   "execution_count": null,
   "metadata": {},
   "outputs": [],
   "source": [
    "actions = []\n",
    "action_meanings = torch.tensor([-1, 0, 1]) if num_actions == 3 else torch.tensor([-1, 1])\n",
    "for Delta in ran[89:90+180]:\n",
    "    Delta_orig = Delta\n",
    "    Delta = torch.tensor(deg2rad(Delta)).reshape((1,)).float()\n",
    "    Delta = torch.nn.functional.relu(model.affine(Delta))\n",
    "    action_probs = torch.nn.functional.softmax(model.action_layer(Delta))    \n",
    "    #print()\n",
    "    actions.append((action_probs * action_meanings * num_actions).mean().detach())\n",
    "\n",
    "actions = torch.tensor(actions)\n",
    "diff_actions = actions[1:]-actions[:-1]\n",
    "print(diff_actions.argmin())\n",
    "plt.plot(ran[90:90+180], diff_actions)\n",
    "plt.scatter(diff_actions.argmin(), diff_actions.min(), c=\"r\")\n",
    "plt.xlabel(\"$\\Delta$ °\")\n",
    "plt.ylabel(\"Avg action $\\Delta_{t+1}$\");"
   ]
  },
  {
   "cell_type": "code",
   "execution_count": null,
   "metadata": {},
   "outputs": [],
   "source": [
    "pd.read_csv(f\"runs/loss{attempt:03d}.csv\").plot(x=\"epoch\", y=\"loss\")"
   ]
  },
  {
   "cell_type": "code",
   "execution_count": null,
   "metadata": {},
   "outputs": [],
   "source": []
  },
  {
   "cell_type": "code",
   "execution_count": null,
   "metadata": {},
   "outputs": [],
   "source": []
  }
 ]
}