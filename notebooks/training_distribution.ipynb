{
 "cells": [
  {
   "cell_type": "code",
   "execution_count": null,
   "metadata": {},
   "outputs": [],
   "source": [
    "print(\"Running\")"
   ]
  },
  {
   "cell_type": "code",
   "execution_count": null,
   "metadata": {},
   "outputs": [],
   "source": [
    "import gym\n",
    "import glob\n",
    "import torch\n",
    "import matplotlib.pyplot as plt"
   ]
  },
  {
   "cell_type": "code",
   "execution_count": null,
   "metadata": {},
   "outputs": [],
   "source": [
    "deg2rad = lambda x: x * 3.1415926536 / 180.\n",
    "rad2deg = lambda x: x * 180. / 3.1415926536"
   ]
  },
  {
   "cell_type": "code",
   "execution_count": null,
   "metadata": {},
   "outputs": [],
   "source": [
    "env = gym.make('gym_swirl:swirl-v1')\n",
    "env.seed(42)"
   ]
  },
  {
   "cell_type": "code",
   "execution_count": null,
   "metadata": {},
   "outputs": [],
   "source": [
    "set([p.split(\"mfmaac\").pop().split(\"_train\")[0] for p in glob.glob(\"runs/mfmaac*\")])"
   ]
  },
  {
   "cell_type": "code",
   "execution_count": null,
   "metadata": {},
   "outputs": [],
   "source": [
    "paths = sorted(glob.glob(\"runs/mfmaac068_*\"), key=lambda x: int(x.split(\"epoch\").pop().split(\"_2021\")[0]))\n",
    "#path = paths[-1]\n",
    "len(paths)"
   ]
  },
  {
   "cell_type": "code",
   "execution_count": null,
   "metadata": {
    "tags": []
   },
   "outputs": [],
   "source": [
    "hist = torch.zeros(180)\n",
    "hist_amount = torch.zeros(180)\n",
    "for path in paths[-10::]:\n",
    "    env.load(path)\n",
    "    for state in env.states[1:]:\n",
    "        indexes = rad2deg(state.Deltas).type(torch.int64)\n",
    "        #print(\"orig size\",indexes.size())\n",
    "        #print(\"indexes\", indexes.min(), indexes.max())\n",
    "        valid = (indexes >= 0) & (indexes < 180) \n",
    "        #print(\"valid sum\", valid.sum())\n",
    "        indexes = indexes[valid]\n",
    "        #print(\"new index\", indexes.size())\n",
    "        ors = state.O_R[valid]#.abs()\n",
    "        #print(\"ors\", ors.size())\n",
    "        #print(\"hist\", hist.size())\n",
    "        hist.index_add_(0, indexes, ors)\n",
    "        #print(\"hist_amount\", hist_amount.size())\n",
    "        #print(\"torch.ones_like(indexes)\", torch.ones_like(indexes).size())\n",
    "        hist_amount.index_add_(0, indexes, torch.ones_like(indexes).type(torch.float32))\n",
    "\n",
    "plt.figure(figsize=(15, 10))\n",
    "plt.plot((hist/torch.maximum(hist_amount, torch.tensor([1.]))).abs())"
   ]
  },
  {
   "cell_type": "code",
   "execution_count": null,
   "metadata": {},
   "outputs": [],
   "source": [
    "(hist/torch.maximum(hist_amount, torch.tensor([1.]))).abs().argmax()"
   ]
  },
  {
   "cell_type": "code",
   "execution_count": null,
   "metadata": {},
   "outputs": [],
   "source": []
  }
 ],
 "metadata": {
  "kernelspec": {
   "display_name": "Python 3.8.5 64-bit ('swirl': conda)",
   "language": "python",
   "name": "python38564bitswirlconda21c61d42320d4e60b34fb9d53df3ccf3"
  },
  "language_info": {
   "codemirror_mode": {
    "name": "ipython",
    "version": 3
   },
   "file_extension": ".py",
   "mimetype": "text/x-python",
   "name": "python",
   "nbconvert_exporter": "python",
   "pygments_lexer": "ipython3",
   "version": "3.8.5-final"
  }
 },
 "nbformat": 4,
 "nbformat_minor": 4
}