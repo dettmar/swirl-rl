{
 "cells": [
  {
   "cell_type": "code",
   "execution_count": null,
   "metadata": {},
   "outputs": [],
   "source": [
    "print(\"Running\")"
   ]
  },
  {
   "cell_type": "code",
   "execution_count": null,
   "metadata": {},
   "outputs": [],
   "source": [
    "import gym\n",
    "import glob\n",
    "import torch\n",
    "import matplotlib.pyplot as plt"
   ]
  },
  {
   "cell_type": "code",
   "execution_count": null,
   "metadata": {},
   "outputs": [],
   "source": [
    "deg2rad = lambda x: x * 3.1415926536 / 180.\n",
    "rad2deg = lambda x: x * 180. / 3.1415926536"
   ]
  },
  {
   "cell_type": "code",
   "execution_count": null,
   "metadata": {},
   "outputs": [],
   "source": [
    "env = gym.make('gym_swirl:swirl-v1')\n",
    "env.seed(42)"
   ]
  },
  {
   "cell_type": "code",
   "execution_count": null,
   "metadata": {},
   "outputs": [],
   "source": [
    "attempt = 11\n",
    "rl_type = \"acdd\"#\"mfmaac\"#\"ac\""
   ]
  },
  {
   "cell_type": "code",
   "execution_count": null,
   "metadata": {},
   "outputs": [],
   "source": [
    "set([p.split(\"mfmaac\").pop().split(\"_train\")[0] for p in glob.glob(f\"runs/{rl_type}*\")])"
   ]
  },
  {
   "cell_type": "code",
   "execution_count": null,
   "metadata": {},
   "outputs": [],
   "source": [
    "paths = sorted(glob.glob(f\"runs/{rl_type}{attempt:03d}_*\"), key=lambda x: int(x.split(\"epoch\").pop().split(\"_2021\")[0]))\n",
    "len(paths)"
   ]
  },
  {
   "cell_type": "code",
   "execution_count": null,
   "metadata": {
    "tags": [
     "outputPrepend"
    ]
   },
   "outputs": [],
   "source": [
    "hist = torch.zeros(180)\n",
    "hist_amount = torch.zeros(180)\n",
    "for path in paths[::1]:\n",
    "    env.load(path)\n",
    "    for state in env.states[1:]:\n",
    "        indexes = rad2deg(state.Deltas).type(torch.int64)\n",
    "        if len(indexes) == 1:\n",
    "            index = indexes.item()\n",
    "            if 0 <= indexes < 180:\n",
    "                hist_amount[index] += 1\n",
    "                hist[index] += state.O_R.mean()\n",
    "        else:\n",
    "            valid = (indexes >= 0) & (indexes < 180) \n",
    "            indexes = indexes[valid]\n",
    "            \n",
    "            ors = state.O_R[valid]\n",
    "            \n",
    "            hist.index_add_(0, indexes, ors)\n",
    "            \n",
    "            hist_amount.index_add_(0, indexes, torch.ones_like(indexes).type(torch.float32))"
   ]
  },
  {
   "cell_type": "code",
   "execution_count": null,
   "metadata": {},
   "outputs": [],
   "source": [
    "plt.rcParams.update({'font.size': 22})\n",
    "fig = plt.figure(figsize=(20,10))\n",
    "res = (hist/torch.maximum(hist_amount, torch.tensor([1.])))\n",
    "plt.plot(res.abs(), c=\"black\")\n",
    "plt.xlabel(\"$\\Delta$ °\")\n",
    "plt.ylabel(\"Avg. <$\\|O_R\\|$>\")\n",
    "plt.title(f\"Maximum: $\\Delta$ = {res.argmax()}°\")\n",
    "#fig.savefig('avg_or_distr_ac.pdf', bbox_inches='tight', pad_inches=0)"
   ]
  },
  {
   "cell_type": "code",
   "execution_count": null,
   "metadata": {},
   "outputs": [],
   "source": [
    "(hist/torch.maximum(hist_amount, torch.tensor([1.]))).abs().argmax()"
   ]
  },
  {
   "cell_type": "code",
   "execution_count": null,
   "metadata": {},
   "outputs": [],
   "source": []
  }
 ],
 "metadata": {
  "kernelspec": {
   "display_name": "Python 3.8.5 64-bit ('swirl': conda)",
   "language": "python",
   "name": "python38564bitswirlconda21c61d42320d4e60b34fb9d53df3ccf3"
  },
  "language_info": {
   "codemirror_mode": {
    "name": "ipython",
    "version": 3
   },
   "file_extension": ".py",
   "mimetype": "text/x-python",
   "name": "python",
   "nbconvert_exporter": "python",
   "pygments_lexer": "ipython3",
   "version": "3.8.5-final"
  }
 },
 "nbformat": 4,
 "nbformat_minor": 4
}